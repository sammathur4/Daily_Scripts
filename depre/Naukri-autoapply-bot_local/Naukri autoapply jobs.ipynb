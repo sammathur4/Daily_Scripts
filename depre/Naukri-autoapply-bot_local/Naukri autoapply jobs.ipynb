{
 "cells": [
  {
   "cell_type": "code",
   "execution_count": null,
   "id": "2964986b",
   "metadata": {},
   "outputs": [],
   "source": [
    "import csv\n",
    "import time\n",
    "from selenium import webdriver\n",
    "from bs4 import BeautifulSoup"
   ]
  },
  {
   "cell_type": "code",
   "execution_count": null,
   "id": "28a16c40",
   "metadata": {
    "scrolled": true
   },
   "outputs": [],
   "source": [
    "profile = webdriver.FirefoxProfile(\"\")  # Add your Root directory path\n",
    "driver = webdriver.Firefox(profile)\n",
    "firstname = \"\"  # Add your LastNAme\n",
    "lastname = \"\"  # Add your FirstName\n",
    "joblink = []  # Initialized list to store links\n",
    "maxcount = 50  # Max daily apply quota for Naukri\n",
    "keywords = [\"\", \"\"]  # Add you list of role you want to apply\n",
    "location = \"\"  # Add your location\n",
    "time.sleep(10)\n",
    "for k in keywords:\n",
    "    for i in range(2):\n",
    "        url = (\n",
    "            \"https://www.naukri.com/\"\n",
    "            + k.replace(\" \", \"-\")\n",
    "            + \"-jobs-in-\"\n",
    "            + location\n",
    "            + \"-\"\n",
    "            + str(i + 1)\n",
    "        )\n",
    "        driver.get(url)\n",
    "        print(url)\n",
    "        time.sleep(3)\n",
    "        soup = BeautifulSoup(driver.page_source, \"html5lib\")\n",
    "        results = soup.find(class_=\"list\")\n",
    "        job_elems = results.find_all(\"article\", class_=\"jobTuple bgWhite br4 mb-8\")\n",
    "        for job_elem in job_elems:\n",
    "            joblink.append(\n",
    "                job_elem.find(\"a\", class_=\"title fw500 ellipsis\").get(\"href\")\n",
    "            )"
   ]
  },
  {
   "cell_type": "code",
   "execution_count": null,
   "id": "3022a697",
   "metadata": {
    "scrolled": true
   },
   "outputs": [],
   "source": [
    "applied = 0\n",
    "failed = 0\n",
    "applied_list = {\"passed\": [], \"failed\": []}\n",
    "for i in joblink:\n",
    "    time.sleep(3)\n",
    "    driver.get(i)\n",
    "    if applied <= maxcount:\n",
    "        try:\n",
    "            time.sleep(3)\n",
    "            driver.find_element_by_xpath(\"//*[text()='Apply']\").click()\n",
    "            time.sleep(2)\n",
    "            applied += 1\n",
    "            applied_list[\"passed\"].append(i)\n",
    "            print(\"Applied for \", i, \" Count\", applied)\n",
    "\n",
    "        except Exception as e:\n",
    "            failed += 1\n",
    "            applied_list[\"failed\"].append(i)\n",
    "            print(e, \"Failed \", failed)\n",
    "        try:\n",
    "            if driver.find_element_by_xpath(\n",
    "                \"//*[text()='Your daily quota has been expired.']\"\n",
    "            ):\n",
    "                print(\"MAX Limit reached closing browser\")\n",
    "                driver.close()\n",
    "                break\n",
    "            if driver.find_element_by_xpath(\"//*[text()=' 1. First Name']\"):\n",
    "                driver.find_element_by_xpath(\n",
    "                    \"//input[@id='CUSTOM-FIRSTNAME']\"\n",
    "                ).send_keys(firstname)\n",
    "            if driver.find_element_by_xpath(\"//*[text()=' 2. Last Name']\"):\n",
    "                driver.find_element_by_xpath(\n",
    "                    \"//input[@id='CUSTOM-LASTNAME']\"\n",
    "                ).send_keys(lastname)\n",
    "            if driver.find_element_by_xpath(\"//*[text()='Submit and Apply']\"):\n",
    "                driver.find_element_by_xpath(\"//*[text()='Submit and Apply']\").click()\n",
    "\n",
    "        except:\n",
    "            pass\n",
    "\n",
    "    else:\n",
    "        driver.close()\n",
    "        break\n",
    "print(\"Completed applying closing browser saving in applied jobs csv\")\n",
    "try:\n",
    "    driver.close()\n",
    "except:\n",
    "    pass\n",
    "csv_file = \"naukriapplied.csv\"\n",
    "try:\n",
    "    with open(csv_file, \"a\") as csvfile:\n",
    "        writer = csv.DictWriter(csvfile, fieldnames=[\"passed\", \"failed\"])\n",
    "        writer.writeheader()\n",
    "        for data in applied_list:\n",
    "            writer.writerow(data)\n",
    "except IOError:\n",
    "    print(\"I/O error\")"
   ]
  },
  {
   "cell_type": "code",
   "execution_count": null,
   "id": "bb4efa12",
   "metadata": {},
   "outputs": [],
   "source": []
  }
 ],
 "metadata": {
  "kernelspec": {
   "display_name": "Python 3 (ipykernel)",
   "language": "python",
   "name": "python3"
  },
  "language_info": {
   "codemirror_mode": {
    "name": "ipython",
    "version": 3
   },
   "file_extension": ".py",
   "mimetype": "text/x-python",
   "name": "python",
   "nbconvert_exporter": "python",
   "pygments_lexer": "ipython3",
   "version": "3.9.7"
  }
 },
 "nbformat": 4,
 "nbformat_minor": 5
}
